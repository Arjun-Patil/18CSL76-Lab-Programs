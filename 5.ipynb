{
 "cells": [
  {
   "cell_type": "code",
   "execution_count": 1,
   "id": "9d7d92af",
   "metadata": {},
   "outputs": [],
   "source": [
    "import numpy as np"
   ]
  },
  {
   "cell_type": "code",
   "execution_count": 2,
   "id": "6c421478",
   "metadata": {},
   "outputs": [],
   "source": [
    "X = np.array(([2, 9], [1, 5], [3, 6]), dtype=float)\n",
    "y = np.array(([92], [86], [89]), dtype=float)\n",
    "\n",
    "X = X/np.amax(X,axis=0) # Normalize \n",
    "y = y/100"
   ]
  },
  {
   "cell_type": "code",
   "execution_count": 3,
   "id": "f7e34167",
   "metadata": {},
   "outputs": [],
   "source": [
    "def sigmoid(x):\n",
    "    return 1/(1 + np.exp(-x))\n",
    "def sigmoid_grad(x):\n",
    "    return x * (1 - x)"
   ]
  },
  {
   "cell_type": "code",
   "execution_count": 4,
   "id": "97897c10",
   "metadata": {},
   "outputs": [],
   "source": [
    "# Variable initialization\n",
    "epoch=7000\n",
    "eta =0.5\n",
    "input_neurons = 2\n",
    "hidden_neurons = 3\n",
    "output_neurons = 1"
   ]
  },
  {
   "cell_type": "code",
   "execution_count": 5,
   "id": "811b7aca",
   "metadata": {},
   "outputs": [],
   "source": [
    "wh=np.random.uniform(size=(input_neurons,hidden_neurons))\t# 2x3 \n",
    "bh=np.random.uniform(size=(1,hidden_neurons))\t# 1x3 \n",
    "wout=np.random.uniform(size=(hidden_neurons,output_neurons)) # 1x1 \n",
    "bout=np.random.uniform(size=(1,output_neurons))"
   ]
  },
  {
   "cell_type": "code",
   "execution_count": 8,
   "id": "adb615a2",
   "metadata": {},
   "outputs": [],
   "source": [
    "for i in range(epoch):\n",
    "    h_ip=np.dot(X,wh) + bh \n",
    "    h_act = sigmoid(h_ip) \n",
    "    o_ip=np.dot(h_act,wout) + bout\n",
    "    output = sigmoid(o_ip)\n",
    "    \n",
    "    Eo = y-output \n",
    "    outgrad = sigmoid_grad(output)\n",
    "    d_output = Eo* outgrad\n",
    "    \n",
    "    Eh = d_output.dot(wout.T)\n",
    "    hiddengrad = sigmoid_grad(h_act) \n",
    "    d_hidden = Eh * hiddengrad\n",
    "    \n",
    "    wout += h_act.T.dot(d_output) *eta \n",
    "    wh += X.T.dot(d_hidden) *eta"
   ]
  },
  {
   "cell_type": "code",
   "execution_count": 7,
   "id": "5beca704",
   "metadata": {},
   "outputs": [
    {
     "name": "stdout",
     "output_type": "stream",
     "text": [
      "Normalized Input: \n",
      "[[0.66666667 1.        ]\n",
      " [0.33333333 0.55555556]\n",
      " [1.         0.66666667]]\n",
      "Actual Output: \n",
      "[[0.92]\n",
      " [0.86]\n",
      " [0.89]]\n",
      "Predicted Output: \n",
      " [[0.89685081]\n",
      " [0.87609011]\n",
      " [0.89629394]]\n"
     ]
    }
   ],
   "source": [
    "print(\"Normalized Input: \\n\" + str(X))\n",
    "print(\"Actual Output: \\n\" + str(y))\n",
    "print(\"Predicted Output: \\n\" ,output)"
   ]
  },
  {
   "cell_type": "code",
   "execution_count": null,
   "id": "4cfaa0e5",
   "metadata": {},
   "outputs": [],
   "source": []
  }
 ],
 "metadata": {
  "kernelspec": {
   "display_name": "Python 3 (ipykernel)",
   "language": "python",
   "name": "python3"
  },
  "language_info": {
   "codemirror_mode": {
    "name": "ipython",
    "version": 3
   },
   "file_extension": ".py",
   "mimetype": "text/x-python",
   "name": "python",
   "nbconvert_exporter": "python",
   "pygments_lexer": "ipython3",
   "version": "3.9.7"
  }
 },
 "nbformat": 4,
 "nbformat_minor": 5
}
