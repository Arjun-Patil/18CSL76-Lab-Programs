{
 "cells": [
  {
   "cell_type": "code",
   "execution_count": 9,
   "id": "027b65c4",
   "metadata": {},
   "outputs": [],
   "source": [
    "class Graph:\n",
    "    \n",
    "    def __init__(self, adjac_lis):\n",
    "        self.adjac_lis = adjac_lis\n",
    "        \n",
    "    def get_neighbours(self, v):\n",
    "        return self.adjac_lis[v]\n",
    "    \n",
    "    def h(self, n):\n",
    "        H = {\n",
    "            'A': 1,\n",
    "            'B': 1,\n",
    "            'C': 1,\n",
    "            'D': 1\n",
    "        }\n",
    "        return H[n]\n",
    "    \n",
    "    def a_star_algorithm(self, start, stop):\n",
    "        \n",
    "        open_list = set(start)\n",
    "        closed_list = set()\n",
    "        \n",
    "        poo = {}\n",
    "        poo[start] = 0\n",
    "        \n",
    "        par = {}\n",
    "        par[start] = start\n",
    "        \n",
    "        while len(open_list)>0:\n",
    "            n =None\n",
    "            \n",
    "            for v in open_list:\n",
    "                if n == None or poo[v] + self.h(v) < poo[n] + self.h(n):\n",
    "                    n = v\n",
    "                    \n",
    "            if n == None:\n",
    "                print(\"Path Doesn't exist\")\n",
    "                return None\n",
    "            \n",
    "            if n == stop:\n",
    "                reconst_path = []\n",
    "                \n",
    "                while par[n]!=n:\n",
    "                    reconst_path.append(n)\n",
    "                    n = par[n]\n",
    "                    \n",
    "                reconst_path.append(start)\n",
    "                reconst_path.reverse()\n",
    "                \n",
    "                return reconst_path\n",
    "            \n",
    "            for (m,weight) in self.get_neighbours(n):\n",
    "                if m not in open_list and m not in closed_list:\n",
    "                    open_list.add(m)\n",
    "                    par[m] = n\n",
    "                    poo[m] = poo[n] + weight\n",
    "                else:\n",
    "                    if poo[m] > poo[n] + weight:\n",
    "                        poo[m] = poo[n] + weight\n",
    "                        par[m] = n\n",
    "                        \n",
    "                        if m in closed_list:\n",
    "                            closed_list.remove(m)\n",
    "                            open_list.add(m)\n",
    "                            \n",
    "            open_list.remove(n)\n",
    "            closed_list.add(n)\n",
    "            \n",
    "        print(\"Path doesn't exist\")\n",
    "        return None        "
   ]
  },
  {
   "cell_type": "code",
   "execution_count": 11,
   "id": "cd93e7c2",
   "metadata": {},
   "outputs": [
    {
     "name": "stdout",
     "output_type": "stream",
     "text": [
      "Path found: ['A', 'D']\n"
     ]
    }
   ],
   "source": [
    "adjac_lis = {\n",
    "    'A' : [('B', 1), ('C', 3), ('D', 7)],\n",
    "    'B' : [('D', 8)],\n",
    "    'C' : [('D', 11)]\n",
    "}\n",
    "graph = Graph(adjac_lis)\n",
    "g = graph.a_star_algorithm('A', 'D')\n",
    "print(\"Path found: \"+ str(g))"
   ]
  },
  {
   "cell_type": "code",
   "execution_count": null,
   "id": "90e0c1b6",
   "metadata": {},
   "outputs": [],
   "source": []
  }
 ],
 "metadata": {
  "kernelspec": {
   "display_name": "Python 3 (ipykernel)",
   "language": "python",
   "name": "python3"
  },
  "language_info": {
   "codemirror_mode": {
    "name": "ipython",
    "version": 3
   },
   "file_extension": ".py",
   "mimetype": "text/x-python",
   "name": "python",
   "nbconvert_exporter": "python",
   "pygments_lexer": "ipython3",
   "version": "3.9.7"
  }
 },
 "nbformat": 4,
 "nbformat_minor": 5
}
